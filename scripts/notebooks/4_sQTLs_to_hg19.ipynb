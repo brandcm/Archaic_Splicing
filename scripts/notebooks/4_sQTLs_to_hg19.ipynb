{
 "cells": [
  {
   "cell_type": "markdown",
   "id": "555ce5fa",
   "metadata": {},
   "source": [
    "# sQTLs to hg19"
   ]
  },
  {
   "cell_type": "markdown",
   "id": "29404a80",
   "metadata": {},
   "source": [
    "Let's map our SA sQTLs from hg38 to hg19. Start by changing directories."
   ]
  },
  {
   "cell_type": "code",
   "execution_count": 1,
   "id": "43b202ed",
   "metadata": {},
   "outputs": [
    {
     "name": "stdout",
     "output_type": "stream",
     "text": [
      "\u001b[?2004l\r",
      "\u001b[?2004h"
     ]
    },
    {
     "ename": "",
     "evalue": "1",
     "output_type": "error",
     "traceback": []
    }
   ],
   "source": [
    "cd ../../data/GTEx_sQTLs"
   ]
  },
  {
   "cell_type": "markdown",
   "id": "3a514ab9",
   "metadata": {},
   "source": [
    "Now split up the data."
   ]
  },
  {
   "cell_type": "code",
   "execution_count": 2,
   "id": "8863253e",
   "metadata": {},
   "outputs": [
    {
     "name": "stdout",
     "output_type": "stream",
     "text": [
      "\u001b[?2004h\u001b[?2004l"
     ]
    },
    {
     "ename": "",
     "evalue": "1",
     "output_type": "error",
     "traceback": []
    }
   ],
   "source": [
    "awk '{print $1,$2-1,$2}' OFS='\\t' sQTLs_hg38.txt > sQTLs_hg38.bed\n",
    "cut -f 3- sQTLs_hg38.txt > sQTLs_hg38_no_chrom_pos.txt"
   ]
  },
  {
   "cell_type": "markdown",
   "id": "a2946873",
   "metadata": {},
   "source": [
    "Run LiftOver. Only one failure! Party on rock star. But first remove that failed site and zip everything back up."
   ]
  },
  {
   "cell_type": "markdown",
   "id": "cee4f6be",
   "metadata": {},
   "source": [
    "#Deleted in new\n",
    "chr17 74870601 74870602"
   ]
  },
  {
   "cell_type": "code",
   "execution_count": 3,
   "id": "ce20b13c",
   "metadata": {},
   "outputs": [
    {
     "name": "stdout",
     "output_type": "stream",
     "text": [
      "\u001b[32m\u001b[K115582\u001b[m\u001b[K\u001b[36m\u001b[K:\u001b[m\u001b[K\u001b[01;31m\u001b[Kchr17\t74870602\u001b[m\u001b[K\tT\tC\t0.0\t0.0\t1.0\t1.0\t0.0\t0.0\t0.0\t0.0\t0.0\t0.0\t1.0\t0.0\t0.0\t0.0\t0.0\t0.0\t0.0\t0.0\t0.0\t0.0\t1.0\t0.0\t0.0\t1.0\t0.0\t1.0\t0.0\t0.0\t0.0\t0.0\t0.0\t1.0\t0.0\t1.0\t1.0\t0.0\t0.0\t0.0\t0.0\t1.0\t1.0\t0.0\t1.0\t0.0\t1.0\t1.0\t0.0\t0.0\t0.0\n",
      "\u001b[?2004h"
     ]
    },
    {
     "ename": "",
     "evalue": "1",
     "output_type": "error",
     "traceback": []
    }
   ],
   "source": [
    "grep -n $'chr17\\t74870602' sQTLs_hg38.txt"
   ]
  },
  {
   "cell_type": "code",
   "execution_count": 4,
   "id": "cf412a63",
   "metadata": {},
   "outputs": [
    {
     "name": "stdout",
     "output_type": "stream",
     "text": [
      "\u001b[?2004l\r",
      "\u001b[?2004h"
     ]
    },
    {
     "ename": "",
     "evalue": "1",
     "output_type": "error",
     "traceback": []
    }
   ],
   "source": [
    "sed '115582d' sQTLs_hg38_no_chrom_pos.txt > sQTLs_hg38_no_chrom_pos_no_failed.txt"
   ]
  },
  {
   "cell_type": "code",
   "execution_count": 5,
   "id": "2392b900",
   "metadata": {},
   "outputs": [
    {
     "name": "stdout",
     "output_type": "stream",
     "text": [
      "\u001b[?2004l\r",
      "\u001b[?2004h"
     ]
    },
    {
     "ename": "",
     "evalue": "1",
     "output_type": "error",
     "traceback": []
    }
   ],
   "source": [
    "paste sQTLs_hg19.bed sQTLs_hg38_no_chrom_pos_no_failed.txt > sQTLs_hg19.txt"
   ]
  },
  {
   "cell_type": "markdown",
   "id": "42c5fdc5",
   "metadata": {},
   "source": [
    "Remember that we've only matched the sites. We need to check the alleles in the next notebook!"
   ]
  }
 ],
 "metadata": {
  "kernelspec": {
   "display_name": "Bash",
   "language": "bash",
   "name": "bash"
  },
  "language_info": {
   "codemirror_mode": "shell",
   "file_extension": ".sh",
   "mimetype": "text/x-sh",
   "name": "bash"
  }
 },
 "nbformat": 4,
 "nbformat_minor": 5
}
