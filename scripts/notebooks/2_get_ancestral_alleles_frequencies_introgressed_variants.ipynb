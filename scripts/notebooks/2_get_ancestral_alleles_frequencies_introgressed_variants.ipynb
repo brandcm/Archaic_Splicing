{
 "cells": [
  {
   "cell_type": "markdown",
   "id": "6a231a31",
   "metadata": {},
   "source": [
    "# Get Ancestral Alleles, Allele Frequencies in Modern Humans, and Variants in Introgressed Haplotypes"
   ]
  },
  {
   "cell_type": "markdown",
   "id": "4ac6089d",
   "metadata": {},
   "source": [
    "We have a dataframe on potential splice variants in archaics. Celebrate good times. Now let's add some more information. We need data on the ancestral allele and allele frequencies in humans for all variants including non-SA sites, InDels, and the X chromosome. We will also concatenate introgressed tag SNPs from Vernot et al. 2016. Finally, we will liftOver SA autosomal SNV variants to see if they also occur in GTex as sQTLs."
   ]
  },
  {
   "cell_type": "markdown",
   "id": "0ea940aa",
   "metadata": {},
   "source": [
    "Change directories. "
   ]
  },
  {
   "cell_type": "code",
   "execution_count": 1,
   "id": "eb6c1cb3",
   "metadata": {},
   "outputs": [
    {
     "name": "stdout",
     "output_type": "stream",
     "text": [
      "\u001b[?2004l\r",
      "\u001b[?2004h"
     ]
    },
    {
     "ename": "",
     "evalue": "1",
     "output_type": "error",
     "traceback": []
    }
   ],
   "source": [
    "cd ../../data/archaic_variants"
   ]
  },
  {
   "cell_type": "markdown",
   "id": "ccecb93d",
   "metadata": {},
   "source": [
    "## Ancestral Alleles"
   ]
  },
  {
   "cell_type": "code",
   "execution_count": 2,
   "id": "f173d6b0",
   "metadata": {},
   "outputs": [
    {
     "name": "stdout",
     "output_type": "stream",
     "text": [
      "\u001b[?2004l\r",
      "\u001b[?2004h"
     ]
    },
    {
     "ename": "",
     "evalue": "1",
     "output_type": "error",
     "traceback": []
    }
   ],
   "source": [
    "awk '{print $1,$2-1,$2}' OFS='\\t' ../dataframes/archaic_data_with_constraint.txt  > all_variant_sites_hg19.bed"
   ]
  },
  {
   "cell_type": "markdown",
   "id": "7ad43bfe",
   "metadata": {},
   "source": [
    "LiftOver to hg38, save as 'all_variant_sites_hg38.bed', remove 'chr', and run the script below."
   ]
  },
  {
   "cell_type": "code",
   "execution_count": 3,
   "id": "9f31b27c",
   "metadata": {},
   "outputs": [
    {
     "name": "stdout",
     "output_type": "stream",
     "text": [
      "\u001b[?2004l\r",
      "\u001b[?2004h"
     ]
    },
    {
     "ename": "",
     "evalue": "1",
     "output_type": "error",
     "traceback": []
    }
   ],
   "source": [
    "sed -e 's/chr//g' all_variant_sites_hg38.bed > all_variant_sites_hg38_no_chr.bed"
   ]
  },
  {
   "cell_type": "markdown",
   "id": "fc773bcd",
   "metadata": {},
   "source": [
    "A couple of variants mapped to small contigs. Let's remove those."
   ]
  },
  {
   "cell_type": "code",
   "execution_count": 4,
   "id": "e8a8f85a",
   "metadata": {},
   "outputs": [
    {
     "name": "stdout",
     "output_type": "stream",
     "text": [
      "\u001b[?2004l\r",
      "\u001b[?2004h"
     ]
    },
    {
     "ename": "",
     "evalue": "1",
     "output_type": "error",
     "traceback": []
    }
   ],
   "source": [
    "awk 'length($1)<=2' OFS='\\t' all_variant_sites_hg38_no_chr.bed > variant_sites_hg38_no_chr.bed"
   ]
  },
  {
   "cell_type": "code",
   "execution_count": 5,
   "id": "d6c5a447",
   "metadata": {},
   "outputs": [
    {
     "name": "stdout",
     "output_type": "stream",
     "text": [
      "\u001b[?2004l\r",
      "\u001b[?2004h"
     ]
    },
    {
     "ename": "",
     "evalue": "1",
     "output_type": "error",
     "traceback": []
    }
   ],
   "source": [
    "#qsub ../4_modern_data_preparation/call_ancestral_allele.sh"
   ]
  },
  {
   "cell_type": "code",
   "execution_count": 6,
   "id": "35f56eeb",
   "metadata": {},
   "outputs": [
    {
     "name": "stdout",
     "output_type": "stream",
     "text": [
      "\u001b[?2004h\u001b[?2004l"
     ]
    },
    {
     "ename": "",
     "evalue": "1",
     "output_type": "error",
     "traceback": []
    }
   ],
   "source": [
    "awk '{print \"chr\"$1,$2,$3}' OFS='\\t' variant_sites_hg38_with_ancestral.bed  > variant_sites_hg38_with_ancestral_chrom_pos.bed\n",
    "awk '{print $4}' OFS='\\t' variant_sites_hg38_with_ancestral.bed  > variant_sites_hg38_with_ancestral_allele_only.bed"
   ]
  },
  {
   "cell_type": "markdown",
   "id": "2c36b01a",
   "metadata": {},
   "source": [
    "Run variant_sites_hg38_with_ancestral_chrom_pos.bed through LiftOver and convert back to hg19, saving the file as 'variant_sites_hg19_with_ancestral_chrom_pos.bed'. Several sites failed. Why? Not a clue! Nonetheless, we will need to remove their alleles from the allele file based on row number. Let's put those LiftOver failures in a file: 'hg38_to_hg19_failed.txt'. Get the rows numbers first."
   ]
  },
  {
   "cell_type": "code",
   "execution_count": 7,
   "id": "becd7134",
   "metadata": {},
   "outputs": [
    {
     "name": "stdout",
     "output_type": "stream",
     "text": [
      "\u001b[32m\u001b[K99930\u001b[m\u001b[K\u001b[36m\u001b[K:\u001b[m\u001b[K\u001b[01;31m\u001b[K1\t149074811\t149074812\u001b[m\u001b[K\t.\n",
      "\u001b[32m\u001b[K100245\u001b[m\u001b[K\u001b[36m\u001b[K:\u001b[m\u001b[K\u001b[01;31m\u001b[K1\t148920129\t148920130\u001b[m\u001b[K\t-\n",
      "\u001b[32m\u001b[K100615\u001b[m\u001b[K\u001b[36m\u001b[K:\u001b[m\u001b[K\u001b[01;31m\u001b[K1\t145812670\t145812671\u001b[m\u001b[K\tc\n",
      "\u001b[32m\u001b[K101366\u001b[m\u001b[K\u001b[36m\u001b[K:\u001b[m\u001b[K\u001b[01;31m\u001b[K1\t150131675\t150131676\u001b[m\u001b[K\tT\n",
      "\u001b[32m\u001b[K221828\u001b[m\u001b[K\u001b[36m\u001b[K:\u001b[m\u001b[K\u001b[01;31m\u001b[K10\t45974162\t45974163\u001b[m\u001b[K\tT\n",
      "\u001b[32m\u001b[K463249\u001b[m\u001b[K\u001b[36m\u001b[K:\u001b[m\u001b[K\u001b[01;31m\u001b[K12\t80454578\t80454579\u001b[m\u001b[K\tG\n",
      "\u001b[32m\u001b[K669248\u001b[m\u001b[K\u001b[36m\u001b[K:\u001b[m\u001b[K\u001b[01;31m\u001b[K15\t64954742\t64954743\u001b[m\u001b[K\t-\n",
      "\u001b[32m\u001b[K807413\u001b[m\u001b[K\u001b[36m\u001b[K:\u001b[m\u001b[K\u001b[01;31m\u001b[K17\t37607973\t37607974\u001b[m\u001b[K\tA\n",
      "\u001b[32m\u001b[K807476\u001b[m\u001b[K\u001b[36m\u001b[K:\u001b[m\u001b[K\u001b[01;31m\u001b[K17\t37694437\t37694438\u001b[m\u001b[K\t-\n",
      "\u001b[32m\u001b[K837140\u001b[m\u001b[K\u001b[36m\u001b[K:\u001b[m\u001b[K\u001b[01;31m\u001b[K17\t74870601\t74870602\u001b[m\u001b[K\tT\n",
      "\u001b[32m\u001b[K942063\u001b[m\u001b[K\u001b[36m\u001b[K:\u001b[m\u001b[K\u001b[01;31m\u001b[K19\t39906447\t39906448\u001b[m\u001b[K\tC\n",
      "\u001b[32m\u001b[K942064\u001b[m\u001b[K\u001b[36m\u001b[K:\u001b[m\u001b[K\u001b[01;31m\u001b[K19\t39906464\t39906465\u001b[m\u001b[K\tG\n",
      "\u001b[32m\u001b[K942065\u001b[m\u001b[K\u001b[36m\u001b[K:\u001b[m\u001b[K\u001b[01;31m\u001b[K19\t39906484\t39906485\u001b[m\u001b[K\tC\n",
      "\u001b[32m\u001b[K942066\u001b[m\u001b[K\u001b[36m\u001b[K:\u001b[m\u001b[K\u001b[01;31m\u001b[K19\t39906513\t39906514\u001b[m\u001b[K\tG\n",
      "\u001b[32m\u001b[K942067\u001b[m\u001b[K\u001b[36m\u001b[K:\u001b[m\u001b[K\u001b[01;31m\u001b[K19\t39906676\t39906677\u001b[m\u001b[K\tG\n",
      "\u001b[32m\u001b[K942068\u001b[m\u001b[K\u001b[36m\u001b[K:\u001b[m\u001b[K\u001b[01;31m\u001b[K19\t39906676\t39906677\u001b[m\u001b[K\tG\n",
      "\u001b[32m\u001b[K942069\u001b[m\u001b[K\u001b[36m\u001b[K:\u001b[m\u001b[K\u001b[01;31m\u001b[K19\t39906703\t39906704\u001b[m\u001b[K\tG\n",
      "\u001b[32m\u001b[K942070\u001b[m\u001b[K\u001b[36m\u001b[K:\u001b[m\u001b[K\u001b[01;31m\u001b[K19\t39907217\t39907218\u001b[m\u001b[K\tC\n",
      "\u001b[32m\u001b[K942071\u001b[m\u001b[K\u001b[36m\u001b[K:\u001b[m\u001b[K\u001b[01;31m\u001b[K19\t39907545\t39907546\u001b[m\u001b[K\tT\n",
      "\u001b[32m\u001b[K942072\u001b[m\u001b[K\u001b[36m\u001b[K:\u001b[m\u001b[K\u001b[01;31m\u001b[K19\t39907663\t39907664\u001b[m\u001b[K\tG\n",
      "\u001b[32m\u001b[K946093\u001b[m\u001b[K\u001b[36m\u001b[K:\u001b[m\u001b[K\u001b[01;31m\u001b[K19\t44489835\t44489836\u001b[m\u001b[K\tA\n",
      "\u001b[32m\u001b[K957603\u001b[m\u001b[K\u001b[36m\u001b[K:\u001b[m\u001b[K\u001b[01;31m\u001b[K19\t54360777\t54360778\u001b[m\u001b[K\tA\n",
      "\u001b[32m\u001b[K1767426\u001b[m\u001b[K\u001b[36m\u001b[K:\u001b[m\u001b[K\u001b[01;31m\u001b[K7\t72735865\t72735866\u001b[m\u001b[K\tT\n",
      "\u001b[32m\u001b[K1875435\u001b[m\u001b[K\u001b[36m\u001b[K:\u001b[m\u001b[K\u001b[01;31m\u001b[K8\t22109194\t22109195\u001b[m\u001b[K\tc\n",
      "\u001b[32m\u001b[K1992078\u001b[m\u001b[K\u001b[36m\u001b[K:\u001b[m\u001b[K\u001b[01;31m\u001b[K9\t61101954\t61101955\u001b[m\u001b[K\t.\n",
      "\u001b[32m\u001b[K1992086\u001b[m\u001b[K\u001b[36m\u001b[K:\u001b[m\u001b[K\u001b[01;31m\u001b[K9\t41160429\t41160430\u001b[m\u001b[K\t-\n",
      "\u001b[32m\u001b[K2076681\u001b[m\u001b[K\u001b[36m\u001b[K:\u001b[m\u001b[K\u001b[01;31m\u001b[KX\t49190519\t49190520\u001b[m\u001b[K\t-\n",
      "\u001b[32m\u001b[K2089596\u001b[m\u001b[K\u001b[36m\u001b[K:\u001b[m\u001b[K\u001b[01;31m\u001b[KX\t105219597\t105219598\u001b[m\u001b[K\tT\n",
      "\u001b[32m\u001b[K2089597\u001b[m\u001b[K\u001b[36m\u001b[K:\u001b[m\u001b[K\u001b[01;31m\u001b[KX\t105219597\t105219598\u001b[m\u001b[K\tT\n",
      "\u001b[?2004h"
     ]
    },
    {
     "ename": "",
     "evalue": "1",
     "output_type": "error",
     "traceback": []
    }
   ],
   "source": [
    "grep -n -f hg38_to_hg19_failed.txt variant_sites_hg38_with_ancestral.bed"
   ]
  },
  {
   "cell_type": "markdown",
   "id": "9498a827",
   "metadata": {},
   "source": [
    "Now delete those alleles by row number."
   ]
  },
  {
   "cell_type": "code",
   "execution_count": 8,
   "id": "c945186c",
   "metadata": {},
   "outputs": [
    {
     "name": "stdout",
     "output_type": "stream",
     "text": [
      "\u001b[?2004l\r",
      "\u001b[?2004h"
     ]
    },
    {
     "ename": "",
     "evalue": "1",
     "output_type": "error",
     "traceback": []
    }
   ],
   "source": [
    "sed '99930d;100245d;100615d;101366d;221828d;463249d;669248d;807413d;807476d;837140d;942063d;942064d;942065d;942066d;942067d;942068d;942069d;942070d;942071d;942072d;946093d;957603d;1767426d;1875435d;1992078d;1992086d;2076681d;2089596d;2089597d' variant_sites_hg38_with_ancestral_allele_only.bed > variant_sites_hg38_with_ancestral_allele_nofailed.bed"
   ]
  },
  {
   "cell_type": "markdown",
   "id": "17913d61",
   "metadata": {},
   "source": [
    "Now we can paste everything together."
   ]
  },
  {
   "cell_type": "code",
   "execution_count": 9,
   "id": "8360e6b5",
   "metadata": {},
   "outputs": [
    {
     "name": "stdout",
     "output_type": "stream",
     "text": [
      "\u001b[?2004l\r",
      "\u001b[?2004h"
     ]
    },
    {
     "ename": "",
     "evalue": "1",
     "output_type": "error",
     "traceback": []
    }
   ],
   "source": [
    "paste variant_sites_hg19_with_ancestral_chrom_pos.bed variant_sites_hg38_with_ancestral_allele_nofailed.bed > variant_sites_hg19_with_ancestral.bed"
   ]
  },
  {
   "cell_type": "markdown",
   "id": "4087804f",
   "metadata": {},
   "source": [
    "## Allele Frequencies"
   ]
  },
  {
   "cell_type": "code",
   "execution_count": 1,
   "id": "dd223263",
   "metadata": {},
   "outputs": [
    {
     "name": "stdout",
     "output_type": "stream",
     "text": [
      "\u001b[?2004h\u001b[?2004l"
     ]
    },
    {
     "ename": "",
     "evalue": "1",
     "output_type": "error",
     "traceback": []
    }
   ],
   "source": [
    "#cd ../archaic_variants_in_humans # use if continuing script\n",
    "cd ../../data/archaic_variants_in_humans # use if starting here"
   ]
  },
  {
   "cell_type": "markdown",
   "id": "697c030d",
   "metadata": {},
   "source": [
    "We've already mapped our variants onto hg38 so now we need the allele frequencies from variants that fall within gene bodies in 1000 genomes. Run the two scripts below. The first will normalize, concatenate, and subset 1000 Genomes variants to those that fall within gene bodies. The second further subsets those data to the archaic variants and then queries for allele frequencies. Some of the alleles from the bcftools output may not actually occur in the archaic data because bcftools only uses chrom and pos, rather than those combined with the reference and alternate allele. However, we're going to later merge the data using all four fields so we can worry about that in the next notebook."
   ]
  },
  {
   "cell_type": "code",
   "execution_count": 2,
   "id": "e1ae224b",
   "metadata": {},
   "outputs": [
    {
     "name": "stdout",
     "output_type": "stream",
     "text": [
      "\u001b[?2004l\r",
      "\u001b[?2004h"
     ]
    },
    {
     "ename": "",
     "evalue": "1",
     "output_type": "error",
     "traceback": []
    }
   ],
   "source": [
    "#qsub ../../scripts/4_modern_data_preparation/subset_1KG.sh"
   ]
  },
  {
   "cell_type": "code",
   "execution_count": 3,
   "id": "3c75aa17",
   "metadata": {},
   "outputs": [
    {
     "name": "stdout",
     "output_type": "stream",
     "text": [
      "\u001b[?2004l\r",
      "\u001b[?2004h"
     ]
    },
    {
     "ename": "",
     "evalue": "1",
     "output_type": "error",
     "traceback": []
    }
   ],
   "source": [
    "#qsub ../../scripts/4_modern_data_preparation/query_1KG_allele_frequencies.sh"
   ]
  },
  {
   "cell_type": "markdown",
   "id": "52c68911",
   "metadata": {},
   "source": [
    "Now let's split things up for lifting back over to hg19."
   ]
  },
  {
   "cell_type": "code",
   "execution_count": 4,
   "id": "3e37ca62",
   "metadata": {},
   "outputs": [
    {
     "name": "stdout",
     "output_type": "stream",
     "text": [
      "\u001b[?2004h\u001b[?2004l"
     ]
    },
    {
     "ename": "",
     "evalue": "1",
     "output_type": "error",
     "traceback": []
    }
   ],
   "source": [
    "awk '{print \"chr\"$1,$2-1,$2}' OFS='\\t' allele_frequencies_hg38.txt  > allele_frequencies_hg38_chrom_pos.bed\n",
    "awk '{print $3,$4,$5,$6,$7,$8,$9,$10,$11,$12}' OFS='\\t' allele_frequencies_hg38.txt > allele_frequencies_hg38_no_chrom_pos.txt"
   ]
  },
  {
   "cell_type": "markdown",
   "id": "6b603930",
   "metadata": {},
   "source": [
    "Run LiftOver and put everything back together. A couple of sites failed again so let's remove those alleles and frequencies based on row number."
   ]
  },
  {
   "cell_type": "markdown",
   "id": "acb6db3b",
   "metadata": {},
   "source": [
    "chr1\t150131675\t150131676\n",
    "chr1\t150131675\t150131676\n",
    "chr10\t115187172\t115187173\n",
    "chr17\t74870601\t74870602"
   ]
  },
  {
   "cell_type": "code",
   "execution_count": 5,
   "id": "e190b45b",
   "metadata": {},
   "outputs": [
    {
     "name": "stdout",
     "output_type": "stream",
     "text": [
      "\u001b[32m\u001b[K58173\u001b[m\u001b[K\u001b[36m\u001b[K:\u001b[m\u001b[K\u001b[01;31m\u001b[K1\t150131676\u001b[m\u001b[K\tT\tA\t56\t5096\t0.01\t0.01\t0.01\t0.02\t0.01\t0\n",
      "\u001b[32m\u001b[K58174\u001b[m\u001b[K\u001b[36m\u001b[K:\u001b[m\u001b[K\u001b[01;31m\u001b[K1\t150131676\u001b[m\u001b[K\tT\tTAAAA\t5093\t5096\t1\t1\t1\t1\t1\t1\n",
      "\u001b[32m\u001b[K58173\u001b[m\u001b[K\u001b[36m\u001b[K:\u001b[m\u001b[K\u001b[01;31m\u001b[K1\t150131676\u001b[m\u001b[K\tT\tA\t56\t5096\t0.01\t0.01\t0.01\t0.02\t0.01\t0\n",
      "\u001b[32m\u001b[K58174\u001b[m\u001b[K\u001b[36m\u001b[K:\u001b[m\u001b[K\u001b[01;31m\u001b[K1\t150131676\u001b[m\u001b[K\tT\tTAAAA\t5093\t5096\t1\t1\t1\t1\t1\t1\n",
      "\u001b[32m\u001b[K169827\u001b[m\u001b[K\u001b[36m\u001b[K:\u001b[m\u001b[K\u001b[01;31m\u001b[K10\t115187173\u001b[m\u001b[K\tAAT\tA\t228\t5096\t0.04\t0\t0\t0.16\t0.02\t0\n",
      "\u001b[32m\u001b[K503770\u001b[m\u001b[K\u001b[36m\u001b[K:\u001b[m\u001b[K\u001b[01;31m\u001b[K17\t74870602\u001b[m\u001b[K\tT\tC\t4193\t5096\t0.82\t0.63\t0.8\t0.98\t0.85\t0.82\n",
      "\u001b[?2004h"
     ]
    },
    {
     "ename": "",
     "evalue": "1",
     "output_type": "error",
     "traceback": []
    }
   ],
   "source": [
    "grep -n $'1\\t150131676' allele_frequencies_hg38.txt\n",
    "grep -n $'1\\t150131676' allele_frequencies_hg38.txt\n",
    "grep -n $'10\\t115187173' allele_frequencies_hg38.txt\n",
    "grep -n $'17\\t74870602' allele_frequencies_hg38.txt"
   ]
  },
  {
   "cell_type": "code",
   "execution_count": 6,
   "id": "64a6b95c",
   "metadata": {},
   "outputs": [
    {
     "name": "stdout",
     "output_type": "stream",
     "text": [
      "\u001b[?2004l\r",
      "\u001b[?2004h"
     ]
    },
    {
     "ename": "",
     "evalue": "1",
     "output_type": "error",
     "traceback": []
    }
   ],
   "source": [
    "sed '58173d;58174d;169827d;503770d' allele_frequencies_hg38_no_chrom_pos.txt > allele_frequencies_hg19_no_chrom_pos_no_failed.txt"
   ]
  },
  {
   "cell_type": "code",
   "execution_count": 7,
   "id": "eaa526d9",
   "metadata": {},
   "outputs": [
    {
     "name": "stdout",
     "output_type": "stream",
     "text": [
      "\u001b[?2004l\r",
      "\u001b[?2004h"
     ]
    },
    {
     "ename": "",
     "evalue": "1",
     "output_type": "error",
     "traceback": []
    }
   ],
   "source": [
    "paste allele_frequencies_hg19_chrom_pos.bed allele_frequencies_hg19_no_chrom_pos_no_failed.txt > allele_frequencies_hg19.bed"
   ]
  },
  {
   "cell_type": "markdown",
   "id": "a6e45bf8",
   "metadata": {},
   "source": [
    "## Non-ASW AFR Allele Frequencies"
   ]
  },
  {
   "cell_type": "markdown",
   "id": "d95caa38",
   "metadata": {},
   "source": [
    "Now let's get the allele frequencies for the 1KG AFR superpopulation without ASW. We need samples from ESN, GWD, LWK, MSL, and YRI. The thousand genomes directory has a text file with all non-ASW sample names. We will subset the VCF using bcftools and query for the allele count and allele number using the script below."
   ]
  },
  {
   "cell_type": "code",
   "execution_count": 1,
   "id": "93f94f5b",
   "metadata": {},
   "outputs": [
    {
     "name": "stdout",
     "output_type": "stream",
     "text": [
      "\u001b[?2004l\r",
      "\u001b[?2004h"
     ]
    },
    {
     "ename": "",
     "evalue": "1",
     "output_type": "error",
     "traceback": []
    }
   ],
   "source": [
    "cd ../../data/archaic_variants_in_humans # use if starting here"
   ]
  },
  {
   "cell_type": "code",
   "execution_count": 2,
   "id": "0c83d169",
   "metadata": {},
   "outputs": [
    {
     "name": "stdout",
     "output_type": "stream",
     "text": [
      "\u001b[?2004l\r",
      "\u001b[?2004h"
     ]
    },
    {
     "ename": "",
     "evalue": "1",
     "output_type": "error",
     "traceback": []
    }
   ],
   "source": [
    "#qsub ../../scripts/4_modern_data_preparation/calculate_non_ASW_AFR_allele_frequencies.sh"
   ]
  },
  {
   "cell_type": "markdown",
   "id": "ae59bd35",
   "metadata": {},
   "source": [
    "Now let's LiftOver using the same procedure as before."
   ]
  },
  {
   "cell_type": "code",
   "execution_count": 3,
   "id": "9edfd3a6",
   "metadata": {},
   "outputs": [
    {
     "name": "stdout",
     "output_type": "stream",
     "text": [
      "\u001b[?2004h\u001b[?2004l"
     ]
    },
    {
     "ename": "",
     "evalue": "1",
     "output_type": "error",
     "traceback": []
    }
   ],
   "source": [
    "awk '{print \"chr\"$1,$2-1,$2}' OFS='\\t' non_ASW_AFR_allele_frequencies_hg38.txt  > non_ASW_AFR_allele_frequencies_hg38_chrom_pos.bed\n",
    "awk '{print $3,$4,$5,$6}' OFS='\\t' non_ASW_AFR_allele_frequencies_hg38.txt > non_ASW_AFR_allele_frequencies_hg38_no_chrom_pos.txt"
   ]
  },
  {
   "cell_type": "markdown",
   "id": "f8c2883c",
   "metadata": {},
   "source": [
    "The same sites should have failed. Let's remove these before stitching everything together."
   ]
  },
  {
   "cell_type": "code",
   "execution_count": 4,
   "id": "e25d9d7e",
   "metadata": {},
   "outputs": [
    {
     "name": "stdout",
     "output_type": "stream",
     "text": [
      "\u001b[32m\u001b[K58173\u001b[m\u001b[K\u001b[36m\u001b[K:\u001b[m\u001b[K\u001b[01;31m\u001b[K1\t150131676\u001b[m\u001b[K\tT\tA\t19\t1026\n",
      "\u001b[32m\u001b[K58174\u001b[m\u001b[K\u001b[36m\u001b[K:\u001b[m\u001b[K\u001b[01;31m\u001b[K1\t150131676\u001b[m\u001b[K\tT\tTAAAA\t1025\t1026\n",
      "\u001b[32m\u001b[K58173\u001b[m\u001b[K\u001b[36m\u001b[K:\u001b[m\u001b[K\u001b[01;31m\u001b[K1\t150131676\u001b[m\u001b[K\tT\tA\t19\t1026\n",
      "\u001b[32m\u001b[K58174\u001b[m\u001b[K\u001b[36m\u001b[K:\u001b[m\u001b[K\u001b[01;31m\u001b[K1\t150131676\u001b[m\u001b[K\tT\tTAAAA\t1025\t1026\n",
      "\u001b[32m\u001b[K169827\u001b[m\u001b[K\u001b[36m\u001b[K:\u001b[m\u001b[K\u001b[01;31m\u001b[K10\t115187173\u001b[m\u001b[K\tAAT\tA\t168\t1026\n",
      "\u001b[32m\u001b[K503770\u001b[m\u001b[K\u001b[36m\u001b[K:\u001b[m\u001b[K\u001b[01;31m\u001b[K17\t74870602\u001b[m\u001b[K\tT\tC\t1005\t1026\n",
      "\u001b[?2004h"
     ]
    },
    {
     "ename": "",
     "evalue": "1",
     "output_type": "error",
     "traceback": []
    }
   ],
   "source": [
    "grep -n $'1\\t150131676' non_ASW_AFR_allele_frequencies_hg38.txt\n",
    "grep -n $'1\\t150131676' non_ASW_AFR_allele_frequencies_hg38.txt\n",
    "grep -n $'10\\t115187173' non_ASW_AFR_allele_frequencies_hg38.txt\n",
    "grep -n $'17\\t74870602' non_ASW_AFR_allele_frequencies_hg38.txt"
   ]
  },
  {
   "cell_type": "code",
   "execution_count": 5,
   "id": "c3cbd1fa",
   "metadata": {},
   "outputs": [
    {
     "name": "stdout",
     "output_type": "stream",
     "text": [
      "\u001b[?2004l\r",
      "\u001b[?2004h"
     ]
    },
    {
     "ename": "",
     "evalue": "1",
     "output_type": "error",
     "traceback": []
    }
   ],
   "source": [
    "sed '58173d;58174d;169827d;503770d' non_ASW_AFR_allele_frequencies_hg38_no_chrom_pos.txt > non_ASW_AFR_allele_frequencies_hg19_no_chrom_pos_no_failed.txt"
   ]
  },
  {
   "cell_type": "code",
   "execution_count": 6,
   "id": "d42edbbb",
   "metadata": {},
   "outputs": [
    {
     "name": "stdout",
     "output_type": "stream",
     "text": [
      "\u001b[?2004l\r",
      "\u001b[?2004h"
     ]
    },
    {
     "ename": "",
     "evalue": "1",
     "output_type": "error",
     "traceback": []
    }
   ],
   "source": [
    "paste non_ASW_AFR_allele_frequencies_hg19_chrom_pos.bed non_ASW_AFR_allele_frequencies_hg19_no_chrom_pos_no_failed.txt > non_ASW_AFR_allele_frequencies_hg19.bed"
   ]
  },
  {
   "cell_type": "markdown",
   "id": "4b6c1a61",
   "metadata": {},
   "source": [
    "## Introgression"
   ]
  },
  {
   "cell_type": "markdown",
   "id": "d023b34d",
   "metadata": {},
   "source": [
    "Now let's gather introgressed tag SNPs from Vernot et al. 2016. We will worry about allele matching in the next notebook when we merge the data."
   ]
  },
  {
   "cell_type": "code",
   "execution_count": 8,
   "id": "21ecbe04",
   "metadata": {},
   "outputs": [
    {
     "name": "stdout",
     "output_type": "stream",
     "text": [
      "\u001b[?2004l\r",
      "\u001b[?2004h"
     ]
    },
    {
     "ename": "",
     "evalue": "1",
     "output_type": "error",
     "traceback": []
    }
   ],
   "source": [
    "#qsub ../../../scripts/4_modern_data_preparation/concat_introgressed_variants.sh"
   ]
  },
  {
   "cell_type": "markdown",
   "id": "62ea6b7b",
   "metadata": {},
   "source": [
    "## sQTLs"
   ]
  },
  {
   "cell_type": "markdown",
   "id": "d8d44d38",
   "metadata": {},
   "source": [
    "Now let's get sQTLs from GTEx."
   ]
  },
  {
   "cell_type": "code",
   "execution_count": 1,
   "id": "8b6a2711",
   "metadata": {},
   "outputs": [
    {
     "name": "stdout",
     "output_type": "stream",
     "text": [
      "\u001b[?2004h\u001b[?2004l"
     ]
    },
    {
     "ename": "",
     "evalue": "1",
     "output_type": "error",
     "traceback": []
    }
   ],
   "source": [
    "#cd ../gtex_sqtls # use if continuing script\n",
    "cd ../../data/gtex_sqtls # use if starting here"
   ]
  },
  {
   "cell_type": "markdown",
   "id": "b9f11e4c",
   "metadata": {},
   "source": [
    "First, create an index file."
   ]
  },
  {
   "cell_type": "code",
   "execution_count": 6,
   "id": "a191a97b",
   "metadata": {},
   "outputs": [
    {
     "name": "stdout",
     "output_type": "stream",
     "text": [
      "\u001b[?2004l\r",
      "\u001b[?2004h"
     ]
    },
    {
     "ename": "",
     "evalue": "1",
     "output_type": "error",
     "traceback": []
    }
   ],
   "source": [
    "awk '{print $1\"_\"$3}' OFS='\\t' ../archaic_variants/all_variant_sites_hg38.bed > hg38_chrom_pos_index.txt"
   ]
  },
  {
   "cell_type": "markdown",
   "id": "886217da",
   "metadata": {},
   "source": [
    "Generate a long form datafile with chrom and pos as an index for each sQTL tissue from GTEx significant pair files."
   ]
  },
  {
   "cell_type": "code",
   "execution_count": null,
   "id": "3b890783",
   "metadata": {},
   "outputs": [],
   "source": [
    "#qsub ../../scripts/4_modern_data_preparation/concat_sQTLs.sh"
   ]
  }
 ],
 "metadata": {
  "kernelspec": {
   "display_name": "Bash",
   "language": "bash",
   "name": "bash"
  },
  "language_info": {
   "codemirror_mode": "shell",
   "file_extension": ".sh",
   "mimetype": "text/x-sh",
   "name": "bash"
  }
 },
 "nbformat": 4,
 "nbformat_minor": 5
}
